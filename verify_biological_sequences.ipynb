{
 "cells": [
  {
   "cell_type": "code",
   "execution_count": 1,
   "metadata": {},
   "outputs": [],
   "source": [
    "# Importing libraries necessary for this scirpt to run\n",
    "import csv"
   ]
  },
  {
   "cell_type": "markdown",
   "metadata": {},
   "source": [
    "Define the adress of your file"
   ]
  },
  {
   "cell_type": "markdown",
   "metadata": {},
   "source": [
    "Important information:\n",
    "your file has to be in CSV format. In your usual editor, go into save as and select csv. It's esaier if you choose the delimiter to be a comma, but you can change this below if you chose another delimiter when saving the file."
   ]
  },
  {
   "cell_type": "code",
   "execution_count": 2,
   "metadata": {},
   "outputs": [],
   "source": [
    "file_adress = \"second_order.csv\""
   ]
  },
  {
   "cell_type": "markdown",
   "metadata": {},
   "source": [
    "Define the names of your columns and the characted separating the elements of your file.\n",
    "You can see those by opening the file with a text editor. \n",
    "It is usually , ; or a tab known by the command \\t in Python."
   ]
  },
  {
   "cell_type": "code",
   "execution_count": 3,
   "metadata": {},
   "outputs": [],
   "source": [
    "default_fieldnames = [\"Name\", \"Sequence\"]  # That works even if you have not defined any fieldname in your file\n",
    "default_delimiter = ','\n",
    "\n",
    "fieldnames = default_fieldnames\n",
    "delimiter = default_delimiter"
   ]
  },
  {
   "cell_type": "markdown",
   "metadata": {},
   "source": [
    "Define the end of the sequence you are looking for"
   ]
  },
  {
   "cell_type": "code",
   "execution_count": 4,
   "metadata": {},
   "outputs": [],
   "source": [
    "end_sequence = \"GAGACCC\""
   ]
  },
  {
   "cell_type": "code",
   "execution_count": 5,
   "metadata": {},
   "outputs": [],
   "source": [
    "succesfull_sequences = []\n",
    "failed_sequences = []\n",
    "\n",
    "with open(file_adress, \"r\") as handle:\n",
    "    dict_reader = csv.DictReader(handle, delimiter = delimiter, fieldnames = fieldnames)\n",
    "    for row in dict_reader:\n",
    "        if row[fieldnames[1]].endswith(end_sequence):\n",
    "            succesfull_sequences.append(row[fieldnames[0]])\n",
    "        else:\n",
    "            failed_sequences.append(row[fieldnames[0]])\n",
    "total_sequences = len(succesfull_sequences) + len(failed_sequences)"
   ]
  },
  {
   "cell_type": "code",
   "execution_count": 6,
   "metadata": {},
   "outputs": [
    {
     "name": "stdout",
     "output_type": "stream",
     "text": [
      "You have 23 succesfull sequences out of 23\n"
     ]
    }
   ],
   "source": [
    "print(\"You have {} succesfull sequences out of {}\".format(len(succesfull_sequences), total_sequences))"
   ]
  },
  {
   "cell_type": "code",
   "execution_count": 7,
   "metadata": {},
   "outputs": [
    {
     "name": "stdout",
     "output_type": "stream",
     "text": [
      "You have 0 failed sequences out of 23\n"
     ]
    }
   ],
   "source": [
    "print(\"You have {} failed sequences out of {}\".format(len(failed_sequences), total_sequences))\n",
    "for sequence in failed_sequences:\n",
    "    print(sequence)  # Only prints if there are failed sequences"
   ]
  },
  {
   "cell_type": "code",
   "execution_count": null,
   "metadata": {},
   "outputs": [],
   "source": []
  },
  {
   "cell_type": "code",
   "execution_count": null,
   "metadata": {},
   "outputs": [],
   "source": []
  },
  {
   "cell_type": "code",
   "execution_count": null,
   "metadata": {},
   "outputs": [],
   "source": []
  }
 ],
 "metadata": {
  "anaconda-cloud": {},
  "kernelspec": {
   "display_name": "Python 3",
   "language": "python",
   "name": "python3"
  },
  "language_info": {
   "codemirror_mode": {
    "name": "ipython",
    "version": 3
   },
   "file_extension": ".py",
   "mimetype": "text/x-python",
   "name": "python",
   "nbconvert_exporter": "python",
   "pygments_lexer": "ipython3",
   "version": "3.6.5"
  }
 },
 "nbformat": 4,
 "nbformat_minor": 1
}
